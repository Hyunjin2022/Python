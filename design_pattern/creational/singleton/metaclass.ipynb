{
 "cells": [
  {
   "cell_type": "markdown",
   "metadata": {},
   "source": [
    "## Python Metaclass\n",
    "\n",
    "Everything is an object in Python. Therefore, a class ia an object which is an instance of type \"type\". Metaclass is a class to make a class obejct."
   ]
  },
  {
   "cell_type": "code",
   "execution_count": 6,
   "metadata": {},
   "outputs": [
    {
     "name": "stdout",
     "output_type": "stream",
     "text": [
      "<class 'str'>\n",
      "<class '__main__.Hello'>\n",
      "<__main__.Hello object at 0x00000165FB0A05B0>\n",
      "<class '__main__.data'>\n"
     ]
    }
   ],
   "source": [
    "# Metaclass uses type\n",
    "# Type has two functionality\n",
    "# 1. return the type of object\n",
    "# 2. Create class\n",
    "\n",
    "print(type('str'))  # case 1\n",
    "\n",
    "Hello = type('Hello', (), {})  # case 2: create Hello class \n",
    "print(Hello)\n",
    "h = Hello()\n",
    "print(h)"
   ]
  },
  {
   "cell_type": "code",
   "execution_count": 1,
   "metadata": {},
   "outputs": [
    {
     "name": "stdout",
     "output_type": "stream",
     "text": [
      "Calculation Class\n",
      "3\n"
     ]
    }
   ],
   "source": [
    "# Implement metaclass by inheriting type\n",
    "class MakeCalc(type):\n",
    "    def __new__(metacls, name, bases, namespace):\n",
    "        namespace['desc'] = 'Calculation Class'  # add attr\n",
    "        namespace['add'] = lambda self, a, b: a + b  # add member function\n",
    "        return type.__new__(metacls, name, bases, namespace)\n",
    "\n",
    "Calc = MakeCalc('Calc', (), {})\n",
    "c = Calc()\n",
    "print(c.desc)\n",
    "print(c.add(1, 2))"
   ]
  },
  {
   "cell_type": "code",
   "execution_count": 1,
   "metadata": {},
   "outputs": [
    {
     "name": "stdout",
     "output_type": "stream",
     "text": [
      "True\n"
     ]
    },
    {
     "ename": "TypeError",
     "evalue": "'SingletonData' object is not callable",
     "output_type": "error",
     "traceback": [
      "\u001b[0;31m---------------------------------------------------------------------------\u001b[0m",
      "\u001b[0;31mTypeError\u001b[0m                                 Traceback (most recent call last)",
      "Cell \u001b[0;32mIn [1], line 16\u001b[0m\n\u001b[1;32m     14\u001b[0m b \u001b[39m=\u001b[39m SingletonData()\n\u001b[1;32m     15\u001b[0m \u001b[39mprint\u001b[39m(a \u001b[39mis\u001b[39;00m b)\n\u001b[0;32m---> 16\u001b[0m \u001b[39mprint\u001b[39m(a())\n",
      "\u001b[0;31mTypeError\u001b[0m: 'SingletonData' object is not callable"
     ]
    }
   ],
   "source": [
    "# Singleton with metaclass\n",
    "\n",
    "class Singleton(type):\n",
    "    __instances = {}\n",
    "    def __call__(cls, *args, **kwargs):  # called when the class's instance is created.\n",
    "        if cls not in cls.__instances:\n",
    "            cls.__instances[cls] = super().__call__(*args, **kwargs)  # create instance\n",
    "        return cls.__instances[cls]\n",
    "\n",
    "class SingletonData(metaclass=Singleton):\n",
    "    pass\n",
    "\n",
    "a = SingletonData()\n",
    "b = SingletonData()\n",
    "print(a is b)"
   ]
  },
  {
   "cell_type": "markdown",
   "metadata": {},
   "source": [
    "### Python internal on the instance creation\n",
    "\n",
    "```\n",
    "__new__()   # create class instance (memory allocation)\n",
    "__init__()  # initialize the instance\n",
    "__call__()  # instance execution\n",
    "            # calling sequence: __new__ -> __init__ -> __call__\n",
    "```\n"
   ]
  },
  {
   "cell_type": "code",
   "execution_count": 11,
   "metadata": {},
   "outputs": [
    {
     "name": "stdout",
     "output_type": "stream",
     "text": [
      "=============================================\n"
     ]
    }
   ],
   "source": [
    "class MyMetaClass(type):\n",
    "\tdef __new__(cls, *args, **kwargs):\n",
    "\t\tprint('metaclass __new__')\n",
    "\t\treturn super().__new__(cls, *args, **kwargs)\n",
    "\n",
    "\tdef __init__(cls, *args, **kwargs):\n",
    "\t\tprint('metaclass __init__')\n",
    "\t\tsuper().__init__(*args, **kwargs)\n",
    "\n",
    "\tdef __call__(cls, *args, **kwargs):\n",
    "\t\tprint('metaclass __call__')\n",
    "\t\treturn super().__call__(*args, **kwargs)\n",
    "\n",
    "\n",
    "class MyClass(metaclass=MyMetaClass):  # metaclass works simlar to template in C++\n",
    "\tdef __init__(self):\n",
    "\t\tprint('child __init__')\n",
    "\n",
    "\tdef __call__(self):\n",
    "\t\tprint('child __call__')\n",
    "\n",
    "print(\"=============================================\")\n",
    "#obj = MyClass()  # it calls MyMetaClass.__call__\n",
    "#obj()"
   ]
  },
  {
   "cell_type": "code",
   "execution_count": 19,
   "metadata": {},
   "outputs": [
    {
     "name": "stdout",
     "output_type": "stream",
     "text": [
      "0\n",
      "0 0\n",
      "0 1\n",
      "5 1\n",
      "\n",
      "5 5\n",
      "5 6\n"
     ]
    }
   ],
   "source": [
    "# class attribute vs. instance attribute\n",
    "class Student:\n",
    "    count = 0\n",
    "    def __init__(self):\n",
    "        self.count = Student.count\n",
    "        pass\n",
    "    def inc_cnt(self):\n",
    "        self.count += 1\n",
    "\n",
    "print(Student.count)\n",
    "std1 = Student()\n",
    "print(Student.count, std1.count)\n",
    "std1.inc_cnt()\n",
    "print(Student.count, std1.count)\n",
    "Student.count = 5\n",
    "print(Student.count, std1.count)  # they differs!\n",
    "print()\n",
    "std2 = Student()\n",
    "print(Student.count, std2.count)  #\n",
    "std2.inc_cnt()\n",
    "print(Student.count, std2.count)  # they differs"
   ]
  }
 ],
 "metadata": {
  "kernelspec": {
   "display_name": "base",
   "language": "python",
   "name": "python3"
  },
  "language_info": {
   "codemirror_mode": {
    "name": "ipython",
    "version": 3
   },
   "file_extension": ".py",
   "mimetype": "text/x-python",
   "name": "python",
   "nbconvert_exporter": "python",
   "pygments_lexer": "ipython3",
   "version": "3.9.15"
  },
  "orig_nbformat": 4,
  "vscode": {
   "interpreter": {
    "hash": "ec7e709e647db4d0127f9615008d06b28fec3873eb30a5b0571e27953488fe25"
   }
  }
 },
 "nbformat": 4,
 "nbformat_minor": 2
}
