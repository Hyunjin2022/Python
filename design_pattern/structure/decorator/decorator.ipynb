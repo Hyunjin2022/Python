{
 "cells": [
  {
   "cell_type": "markdown",
   "metadata": {},
   "source": [
    "# Decorator\n",
    "Adding behavior without altering the class itself.\n",
    "\n",
    "* Motivation\n",
    "  - Want to augment an object with additional functionality\n",
    "  - Do not want to rewrite or alter existing code (OCP)\n",
    "  - Want to keep new functionality separate (SRP)\n",
    "  - Need to be able to interact with existing structures\n",
    "  - Two Options\n",
    "    - Inherit from required object (if possible)\n",
    "    - Build a Decorator, which simply references the decorated object.\n",
    "\n",
    "* Facilitates the addition of behaviors to individual objects without inheriting from them.\n",
    "\n",
    "* Summary\n",
    "  - A decorator keeps the reference to the decorated objects\n",
    "  - Adds utility attributes and methods to augment the object’s features\n",
    "  - Proxying of underlying calls can be done dynamically\n",
    "  - Python’s functional decorators wrap functions; no direct relation to the Decorator pattern.\n",
    "    - i.e., the python decorator overwrites the functionality\n"
   ]
  },
  {
   "cell_type": "markdown",
   "metadata": {},
   "source": [
    "## Python Functional Decorator != Decorator Pattern"
   ]
  },
  {
   "cell_type": "code",
   "execution_count": 2,
   "metadata": {},
   "outputs": [
    {
     "name": "stdout",
     "output_type": "stream",
     "text": [
      "Starting op\n",
      "We are done\n"
     ]
    },
    {
     "data": {
      "text/plain": [
       "123"
      ]
     },
     "execution_count": 2,
     "metadata": {},
     "output_type": "execute_result"
    }
   ],
   "source": [
    "import time\n",
    "\n",
    "def some_op():\n",
    "  print('Starting op')\n",
    "  time.sleep(1)\n",
    "  print('We are done')\n",
    "  return 123\n",
    "\n",
    "some_op()"
   ]
  },
  {
   "cell_type": "code",
   "execution_count": 3,
   "metadata": {},
   "outputs": [
    {
     "name": "stdout",
     "output_type": "stream",
     "text": [
      "Starting op\n",
      "We are done\n",
      "some_op took 1000ms\n"
     ]
    },
    {
     "data": {
      "text/plain": [
       "123"
      ]
     },
     "execution_count": 3,
     "metadata": {},
     "output_type": "execute_result"
    }
   ],
   "source": [
    "# To measture the execution time of a func, User Wrapper\n",
    "\n",
    "import time\n",
    "\n",
    "def time_it(func):\n",
    "  def wrapper():\n",
    "    start = time.time()\n",
    "    result = func()\n",
    "    end = time.time()\n",
    "    print(f'{func.__name__} took {int((end-start)*1000)}ms')\n",
    "    return result\n",
    "  return wrapper\n",
    "\n",
    "# decorator = time_it(some_op)  # make a decorator\n",
    "# decorator()  # calling it\n",
    "time_it(some_op)()\n"
   ]
  },
  {
   "cell_type": "code",
   "execution_count": 7,
   "metadata": {},
   "outputs": [
    {
     "name": "stdout",
     "output_type": "stream",
     "text": [
      "Starting op %s 1\n",
      "We are done %s 2\n",
      "half_op took 1008ms\n"
     ]
    },
    {
     "data": {
      "text/plain": [
       "123"
      ]
     },
     "execution_count": 7,
     "metadata": {},
     "output_type": "execute_result"
    }
   ],
   "source": [
    "# Use Built-in Decorator\n",
    "\n",
    "@time_it\n",
    "def half_op(a = 1, b = 2):\n",
    "  print('Starting op %s', a)\n",
    "  time.sleep(1)\n",
    "  print('We are done %s', b)\n",
    "  return 123\n",
    "\n",
    "half_op()"
   ]
  },
  {
   "cell_type": "markdown",
   "metadata": {},
   "source": [
    "## Classic Decorator"
   ]
  },
  {
   "cell_type": "code",
   "execution_count": 20,
   "metadata": {},
   "outputs": [],
   "source": [
    "from abc import ABC\n",
    "\n",
    "\n",
    "class Shape(ABC):\n",
    "    def __str__(self):\n",
    "        return ''\n",
    "\n",
    "\n",
    "class Circle(Shape):\n",
    "    def __init__(self, radius=0.0):\n",
    "        self.radius = radius\n",
    "\n",
    "    def resize(self, factor):\n",
    "        self.radius *= factor\n",
    "\n",
    "    def __str__(self):\n",
    "        return f'A circle of radius {self.radius}'\n",
    "\n",
    "\n",
    "class Square(Shape):\n",
    "    def __init__(self, side):\n",
    "        self.side = side\n",
    "\n",
    "    def __str__(self):\n",
    "        return f'A square with side {self.side}'\n",
    "\n",
    "\n",
    "class ColoredShape(Shape):\n",
    "    def __init__(self, shape, color):\n",
    "        # To prevent double applications\n",
    "        if isinstance(shape, ColoredShape):\n",
    "            raise Exception('Cannot apply ColoredDecorator twice')\n",
    "        self.shape = shape\n",
    "        self.color = color\n",
    "\n",
    "    def __str__(self):\n",
    "        return f'{self.shape} has the color {self.color}'\n",
    "\n",
    "\n",
    "class TransparentShape(Shape):\n",
    "    def __init__(self, shape, transparency):\n",
    "        self.shape = shape\n",
    "        self.transparency = transparency\n",
    "\n",
    "    def __str__(self):\n",
    "        return f'{self.shape} has {self.transparency * 100.0}% transparency'\n",
    "\n",
    "\n"
   ]
  },
  {
   "cell_type": "code",
   "execution_count": 23,
   "metadata": {},
   "outputs": [
    {
     "name": "stdout",
     "output_type": "stream",
     "text": [
      "A circle of radius 2\n",
      "A circle of radius 2 has the color red\n",
      "A circle of radius 2 has the color red has 50.0% transparency\n",
      "A circle of radius 3 has 50.0% transparency has the color blue has 30.0% transparency has the color red\n"
     ]
    }
   ],
   "source": [
    "\n",
    "circle = Circle(2)\n",
    "print(circle)\n",
    "\n",
    "red_circle = ColoredShape(circle, \"red\")\n",
    "print(red_circle)\n",
    "\n",
    "# ColoredShape doesn't have resize()\n",
    "# red_circle.resize(3)\n",
    "\n",
    "red_half_transparent_square = TransparentShape(red_circle, 0.5)\n",
    "print(red_half_transparent_square)\n",
    "\n",
    "# nothing prevents double application\n",
    "# twice = ColoredShape(ColoredShape(Circle(3), 'red'), 'blue')\n",
    "# print(twice)\n",
    "\n",
    "# T(C(T(shape)) -> Hard to catch\n",
    "twice = ColoredShape(TransparentShape(ColoredShape(TransparentShape(Circle(3), 0.5), 'blue'), 0.3), 'red')\n",
    "print(twice)\n",
    "\n"
   ]
  },
  {
   "cell_type": "markdown",
   "metadata": {},
   "source": [
    "## Dynamic Decorator"
   ]
  },
  {
   "cell_type": "code",
   "execution_count": 44,
   "metadata": {},
   "outputs": [],
   "source": [
    "class FileWithLogging:\n",
    "  def __init__(self, file):\n",
    "    self.file = file\n",
    "\n",
    "  def writelines(self, strings):\n",
    "    self.file.writelines(strings)\n",
    "    print(f'wrote {len(strings)} lines')  # Add Logging (Decorator)\n",
    "\n",
    "#   def __iter__(self):\n",
    "#     return self.file.__iter__()\n",
    "\n",
    "#   def __next__(self):\n",
    "#     return self.file.__next__()\n",
    "\n",
    "  def __getattr__(self, item):  # Get all attrictue of a normal file\n",
    "    return getattr(self.__dict__['file'], item)\n",
    "\n",
    "#   def __setattr__(self, key, value):\n",
    "#     if key == 'file':\n",
    "#       self.__dict__[key] = value\n",
    "#     else:\n",
    "#       setattr(self.__dict__['file'], key)\n",
    "\n",
    "#   def __delattr__(self, item):\n",
    "#     delattr(self.__dict__['file'], item)"
   ]
  },
  {
   "cell_type": "code",
   "execution_count": 43,
   "metadata": {},
   "outputs": [
    {
     "name": "stdout",
     "output_type": "stream",
     "text": [
      "wrote 2 lines\n"
     ]
    }
   ],
   "source": [
    "file = FileWithLogging(open('hello.txt', 'w'))\n",
    "file.writelines(['hello\\n', 'world\\n'])\n",
    "file.write('testing')\n",
    "file.close()\n"
   ]
  },
  {
   "cell_type": "markdown",
   "metadata": {},
   "source": [
    "## Decorator Coding Exercise\n",
    "You are given two types, Circle and Square, and a decorator called ColoredShape.\n",
    "\n",
    "The decorator adds the color to the string output for a given shape, just as we did in the lecture.\n",
    "\n",
    "There's a trick though: the decorator now has a resize() method that should resize the underlying shape. However, only the Circle has a resize() method; the Square does not — do not add it!\n",
    "\n",
    "You are asked to complete the implementation of Circle, Square and ColoredShape."
   ]
  },
  {
   "cell_type": "code",
   "execution_count": 49,
   "metadata": {},
   "outputs": [],
   "source": [
    "class Circle:\n",
    "  def __init__(self, radius):\n",
    "    self.radius = radius\n",
    "\n",
    "  def resize(self, factor):\n",
    "    self.radius *= factor\n",
    "\n",
    "  def __str__(self):\n",
    "    return 'A circle of radius %s' % self.radius\n",
    "\n",
    "class Square:\n",
    "  def __init__(self, side):\n",
    "    self.side = side\n",
    "\n",
    "  def __str__(self):\n",
    "    return 'A square with side %s' % self.side\n",
    "  \n",
    "class ColoredShape:\n",
    "  def __init__(self, shape, color):\n",
    "    self.color = color\n",
    "    self.shape = shape\n",
    "\n",
    "  def resize(self, factor):\n",
    "    # TODO ---------------------------------------------\n",
    "    r = getattr(self.shape, 'resize', None)\n",
    "    if callable(r):  # True in Circle, False in Square\n",
    "      self.shape.resize(factor)\n",
    "\n",
    "  def __str__(self):\n",
    "    return \"%s has the color %s\" %\\\n",
    "           (self.shape, self.color)"
   ]
  },
  {
   "cell_type": "code",
   "execution_count": 50,
   "metadata": {},
   "outputs": [
    {
     "name": "stderr",
     "output_type": "stream",
     "text": [
      "test_circle (__main__.Evaluate) ... ok\n",
      "test_no_resize_in_square (__main__.Evaluate) ... ok\n",
      "test_square (__main__.Evaluate) ... ok\n",
      "\n",
      "----------------------------------------------------------------------\n",
      "Ran 3 tests in 0.002s\n",
      "\n",
      "OK\n"
     ]
    },
    {
     "data": {
      "text/plain": [
       "<unittest.main.TestProgram at 0x19c33c1e830>"
      ]
     },
     "execution_count": 50,
     "metadata": {},
     "output_type": "execute_result"
    }
   ],
   "source": [
    "from unittest import TestCase\n",
    "import unittest\n",
    "\n",
    "class Evaluate(TestCase):\n",
    "  def test_circle(self):\n",
    "    circle = ColoredShape(Circle(5), 'red')\n",
    "    self.assertEqual(\n",
    "      'A circle of radius 5 has the color red',\n",
    "      str(circle)\n",
    "    )\n",
    "    circle.resize(2)\n",
    "    self.assertEqual(\n",
    "      'A circle of radius 10 has the color red',\n",
    "      str(circle)\n",
    "    )\n",
    "\n",
    "  def test_no_resize_in_square(self):\n",
    "    square = Square(4)\n",
    "    r = getattr(square, 'resize', None)\n",
    "    self.assertFalse(callable(r),\n",
    "                     'Please do not add resize() to Square')\n",
    "\n",
    "  def test_square(self):\n",
    "    square = ColoredShape(Square(2), 'blue')\n",
    "    self.assertEqual(\n",
    "      'A square with side 2 has the color blue',\n",
    "      str(square)\n",
    "    )\n",
    "    square.resize(2)\n",
    "    self.assertEqual(\n",
    "      'A square with side 2 has the color blue',\n",
    "      str(square)\n",
    "    )\n",
    "\n",
    "unittest.main(argv=[''], verbosity=2, exit=False)"
   ]
  }
 ],
 "metadata": {
  "kernelspec": {
   "display_name": "Python 3.10.7 64-bit",
   "language": "python",
   "name": "python3"
  },
  "language_info": {
   "codemirror_mode": {
    "name": "ipython",
    "version": 3
   },
   "file_extension": ".py",
   "mimetype": "text/x-python",
   "name": "python",
   "nbconvert_exporter": "python",
   "pygments_lexer": "ipython3",
   "version": "3.10.7 (tags/v3.10.7:6cc6b13, Sep  5 2022, 14:08:36) [MSC v.1933 64 bit (AMD64)]"
  },
  "orig_nbformat": 4,
  "vscode": {
   "interpreter": {
    "hash": "a9e2c7703114bb33d9bb95f9f1c7ade36d0cd0b5dec40cd5c5afcfa9f59c771a"
   }
  }
 },
 "nbformat": 4,
 "nbformat_minor": 2
}
