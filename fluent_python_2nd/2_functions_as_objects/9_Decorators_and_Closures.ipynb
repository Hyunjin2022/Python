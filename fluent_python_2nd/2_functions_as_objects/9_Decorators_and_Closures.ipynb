{
 "cells": [
  {
   "attachments": {},
   "cell_type": "markdown",
   "metadata": {},
   "source": [
    "# Fluent Python\n",
    "\n",
    "## Chapter 9 Decorators and Closures\n",
    "\n",
    "### Decorator란?\n",
    "- 함수를 인수로 받아 명령을 추가한 뒤 이를 다시 함수의 형태로 반환하는 함수\n",
    "\n",
    "함수의 내부를 수정하지 않고 기능에 변화를 주고 싶을 때 사용  \n",
    "일반적으로 함수의 전처리나 후처리에 대한 필요가 있을때 사용  \n",
    "반복을 줄이고 메소드나 함수의 책임을 확장\n",
    "\n",
    "간단한 사용법 예시"
   ]
  },
  {
   "cell_type": "code",
   "execution_count": 163,
   "metadata": {},
   "outputs": [
    {
     "name": "stdout",
     "output_type": "stream",
     "text": [
      "running inner()\n",
      "<function deco.<locals>.inner at 0x0000026477922680>\n",
      "\n",
      "running inner()\n",
      "<function deco.<locals>.inner at 0x0000026476773130>\n"
     ]
    }
   ],
   "source": [
    "# decorator\n",
    "def deco(func):\n",
    "    def inner():\n",
    "        print('running inner()')\n",
    "    return inner\n",
    "\n",
    "@deco \n",
    "def target():\n",
    "    print('running target()')\n",
    "    \n",
    "target() # running inner()\n",
    "print(target)\n",
    "print()\n",
    "\n",
    "# target = deco(target) 과 동일\n",
    "target = deco(target)\n",
    "target() # running inner()\n",
    "print(target)"
   ]
  },
  {
   "attachments": {},
   "cell_type": "markdown",
   "metadata": {},
   "source": [
    "#### Decorator는 모듈이 load될 때 즉시 시행된다\n",
    "\n",
    "Decorator를 적용시킨 함수를 활용 하지 않아도, 정의한 것 만으로 실행이 됨."
   ]
  },
  {
   "cell_type": "code",
   "execution_count": 164,
   "metadata": {},
   "outputs": [
    {
     "name": "stdout",
     "output_type": "stream",
     "text": [
      "running register(<function f1 at 0x0000026476B356C0>)\n",
      "running register(<function f2 at 0x00000264779CDE10>)\n"
     ]
    }
   ],
   "source": [
    "registry = []\n",
    "\n",
    "def register(func):\n",
    "    print(f'running register({func})')\n",
    "    registry.append(func)\n",
    "    return func\n",
    "\n",
    "@register\n",
    "def f1():\n",
    "    print('running f1()')\n",
    "    \n",
    "@register\n",
    "def f2():\n",
    "    print('running f2()')\n",
    "    \n",
    "def f3():\n",
    "    print('running f3()')"
   ]
  },
  {
   "cell_type": "code",
   "execution_count": 165,
   "metadata": {},
   "outputs": [
    {
     "data": {
      "text/plain": [
       "[<function __main__.f1()>, <function __main__.f2()>]"
      ]
     },
     "execution_count": 165,
     "metadata": {},
     "output_type": "execute_result"
    }
   ],
   "source": [
    "registry"
   ]
  },
  {
   "attachments": {},
   "cell_type": "markdown",
   "metadata": {},
   "source": [
    "python3 registration.py의 실행결과\n",
    "\n",
    "```\n",
    "running register(<function f1 at 0x000001EC6258ADD0>)\n",
    "running register(<function f2 at 0x000001EC6258AE60>)\n",
    "running main()\n",
    "registry -> [<function f1 at 0x000001EC6258ADD0>, <function f2 at 0x000001EC6258AE60>]\n",
    "running f1()\n",
    "running f2()\n",
    "running f3()\n",
    "```"
   ]
  },
  {
   "cell_type": "code",
   "execution_count": 105,
   "metadata": {},
   "outputs": [
    {
     "data": {
      "text/plain": [
       "[<function registration.f1()>, <function registration.f2()>]"
      ]
     },
     "execution_count": 105,
     "metadata": {},
     "output_type": "execute_result"
    }
   ],
   "source": [
    "import registration\n",
    "\n",
    "registration.registry"
   ]
  },
  {
   "attachments": {},
   "cell_type": "markdown",
   "metadata": {},
   "source": [
    "### 전역 변수와 지역 변수 (Variable Scope Rules)\n",
    "전역 변수(글로벌 변수)와 지역 변수를 구별 하여 사용해야 함\n",
    "\n",
    "전역 변수: 함수밖, 전체 범위에서 선언되어 코드 전체에 영향을 주고 받는 변수  \n",
    "지역 변수: 지역 범위에서만 영향을 주고 받는 변수  \n"
   ]
  },
  {
   "cell_type": "code",
   "execution_count": 166,
   "metadata": {},
   "outputs": [
    {
     "name": "stdout",
     "output_type": "stream",
     "text": [
      "3\n",
      "6\n"
     ]
    }
   ],
   "source": [
    "def f1(a):\n",
    "    print(a)\n",
    "    print(b)\n",
    "\n",
    "b = 6\n",
    "f1(3)"
   ]
  },
  {
   "cell_type": "code",
   "execution_count": 167,
   "metadata": {},
   "outputs": [
    {
     "name": "stdout",
     "output_type": "stream",
     "text": [
      "3\n"
     ]
    },
    {
     "ename": "UnboundLocalError",
     "evalue": "local variable 'b' referenced before assignment",
     "output_type": "error",
     "traceback": [
      "\u001b[1;31m---------------------------------------------------------------------------\u001b[0m",
      "\u001b[1;31mUnboundLocalError\u001b[0m                         Traceback (most recent call last)",
      "Cell \u001b[1;32mIn[167], line 7\u001b[0m\n\u001b[0;32m      4\u001b[0m     \u001b[39mprint\u001b[39m(b)\n\u001b[0;32m      5\u001b[0m     b\u001b[39m=\u001b[39m\u001b[39m9\u001b[39m\n\u001b[1;32m----> 7\u001b[0m f2(\u001b[39m3\u001b[39;49m)\n",
      "Cell \u001b[1;32mIn[167], line 4\u001b[0m, in \u001b[0;36mf2\u001b[1;34m(a)\u001b[0m\n\u001b[0;32m      2\u001b[0m \u001b[39mdef\u001b[39;00m \u001b[39mf2\u001b[39m(a):\n\u001b[0;32m      3\u001b[0m     \u001b[39mprint\u001b[39m(a)\n\u001b[1;32m----> 4\u001b[0m     \u001b[39mprint\u001b[39m(b)\n\u001b[0;32m      5\u001b[0m     b\u001b[39m=\u001b[39m\u001b[39m9\u001b[39m\n",
      "\u001b[1;31mUnboundLocalError\u001b[0m: local variable 'b' referenced before assignment"
     ]
    }
   ],
   "source": [
    "b = 6 \n",
    "def f2(a):\n",
    "    print(a)\n",
    "    print(b)\n",
    "    b=9\n",
    "\n",
    "f2(3)"
   ]
  },
  {
   "attachments": {},
   "cell_type": "markdown",
   "metadata": {},
   "source": [
    "f2() 의 body를 컴파일 할 때, b는 이미 지역변수로 설정이 됨.  \n",
    "고로 ```print(b)``` 에서는 전역 변수 b가 아닌, 지역변수 b를 fetch하려고 하고, 위와같은 error가 남"
   ]
  },
  {
   "cell_type": "code",
   "execution_count": 168,
   "metadata": {},
   "outputs": [
    {
     "name": "stdout",
     "output_type": "stream",
     "text": [
      "3\n",
      "6\n",
      "9\n"
     ]
    }
   ],
   "source": [
    "# 이와 같이 global변수로 설정 해주면 okay\n",
    "b = 6 \n",
    "def f3(a):\n",
    "    global b\n",
    "    print(a)\n",
    "    print(b)\n",
    "    b=9\n",
    "\n",
    "f3(3)\n",
    "print(b)"
   ]
  },
  {
   "attachments": {},
   "cell_type": "markdown",
   "metadata": {},
   "source": [
    "### 스코프(scope)의 개념\n",
    "\n",
    "**local 스코프**: inner 함수 블록 안에 있는 영역  \n",
    "**nonlocal 스코프**: outer 함수의 안에 있되, inner 의 밖에 있는 영역  \n",
    "**global 스코프**: outer 함수 밖의 영역  \n",
    "\n",
    "```\n",
    "... (global)\n",
    "def outer():\n",
    "    ... (nonlocal)\n",
    "    def inner():\n",
    "        ... (local)\n",
    "```\n",
    "\n"
   ]
  },
  {
   "attachments": {},
   "cell_type": "markdown",
   "metadata": {},
   "source": [
    "### Closures\n",
    "정의: 자신을 둘러싼 스코프(scope)의 상태값을 기억하는 함수\n",
    "\n",
    "조건\n",
    "1. 해당 함수는 어떤 함수 내의 중첩된 함수여야 한다.\n",
    "2. 해당 함수는 자신을 둘러싼(enclose) 함수 내의 상태값을 반드시 참조해야 한다.\n",
    "3. 해당 함수를 둘러싼 함수는 이 함수를 반환해야 한다."
   ]
  },
  {
   "cell_type": "code",
   "execution_count": 169,
   "metadata": {},
   "outputs": [],
   "source": [
    "def make_averager():\n",
    "    series = [] \n",
    "    \n",
    "    def averager(new_value): # 클로져\n",
    "        series.append(new_value)\n",
    "        total = sum(series)\n",
    "        return total / len(series)\n",
    "    \n",
    "    return averager"
   ]
  },
  {
   "cell_type": "code",
   "execution_count": 170,
   "metadata": {},
   "outputs": [
    {
     "name": "stdout",
     "output_type": "stream",
     "text": [
      "10.0\n",
      "10.5\n",
      "12.0\n"
     ]
    }
   ],
   "source": [
    "avg = make_averager()\n",
    "print(avg(10))\n",
    "print(avg(11))\n",
    "print(avg(15))"
   ]
  },
  {
   "attachments": {},
   "cell_type": "markdown",
   "metadata": {},
   "source": [
    "### The nonlocal Declaration\n",
    "nonlocal 스코프의 변수를 local에서 사용하고 싶을 때"
   ]
  },
  {
   "cell_type": "code",
   "execution_count": 171,
   "metadata": {},
   "outputs": [
    {
     "ename": "UnboundLocalError",
     "evalue": "local variable 'count' referenced before assignment",
     "output_type": "error",
     "traceback": [
      "\u001b[1;31m---------------------------------------------------------------------------\u001b[0m",
      "\u001b[1;31mUnboundLocalError\u001b[0m                         Traceback (most recent call last)",
      "Cell \u001b[1;32mIn[171], line 13\u001b[0m\n\u001b[0;32m     10\u001b[0m     \u001b[39mreturn\u001b[39;00m averager\n\u001b[0;32m     12\u001b[0m avg \u001b[39m=\u001b[39m make_averager()\n\u001b[1;32m---> 13\u001b[0m \u001b[39mprint\u001b[39m(avg(\u001b[39m10\u001b[39;49m))\n\u001b[0;32m     14\u001b[0m \u001b[39mprint\u001b[39m(avg(\u001b[39m11\u001b[39m))\n\u001b[0;32m     15\u001b[0m \u001b[39mprint\u001b[39m(avg(\u001b[39m15\u001b[39m))\n",
      "Cell \u001b[1;32mIn[171], line 6\u001b[0m, in \u001b[0;36mmake_averager.<locals>.averager\u001b[1;34m(new_value)\u001b[0m\n\u001b[0;32m      5\u001b[0m \u001b[39mdef\u001b[39;00m \u001b[39maverager\u001b[39m(new_value):\n\u001b[1;32m----> 6\u001b[0m     count \u001b[39m+\u001b[39m\u001b[39m=\u001b[39m \u001b[39m1\u001b[39m \u001b[39m# 사실상 count = count + 1 로 count를 assign하고 있음 (local 스코프의 변수로 취급됨)\u001b[39;00m\n\u001b[0;32m      7\u001b[0m     total \u001b[39m+\u001b[39m\u001b[39m=\u001b[39m new_value\n\u001b[0;32m      8\u001b[0m     \u001b[39mreturn\u001b[39;00m total \u001b[39m/\u001b[39m count\n",
      "\u001b[1;31mUnboundLocalError\u001b[0m: local variable 'count' referenced before assignment"
     ]
    }
   ],
   "source": [
    "def make_averager():\n",
    "    count = 0\n",
    "    total = 0\n",
    "    \n",
    "    def averager(new_value):\n",
    "        count += 1 # 사실상 count = count + 1 로 count를 assign하고 있음 (local 스코프의 변수로 취급됨)\n",
    "        total += new_value\n",
    "        return total / count\n",
    "    \n",
    "    return averager\n",
    "\n",
    "avg = make_averager()\n",
    "print(avg(10))\n",
    "print(avg(11))\n",
    "print(avg(15))\n"
   ]
  },
  {
   "cell_type": "code",
   "execution_count": 172,
   "metadata": {},
   "outputs": [
    {
     "name": "stdout",
     "output_type": "stream",
     "text": [
      "10.0\n",
      "10.5\n",
      "12.0\n"
     ]
    }
   ],
   "source": [
    "def make_averager():\n",
    "    count = 0\n",
    "    total = 0\n",
    "    \n",
    "    def averager(new_value):\n",
    "        nonlocal count, total # count, total이 nonlocal 스코프의 변수임을 설정해줌\n",
    "        count += 1 \n",
    "        total += new_value\n",
    "        return total / count\n",
    "    \n",
    "    return averager\n",
    "\n",
    "avg = make_averager()\n",
    "print(avg(10))\n",
    "print(avg(11))\n",
    "print(avg(15))"
   ]
  },
  {
   "attachments": {},
   "cell_type": "markdown",
   "metadata": {},
   "source": [
    "### Implementing a Simple Decorator (예시)\n",
    "\n",
    "clock decorator -> 함수의 실행시간과 인수, 결과값을 알려줌\n"
   ]
  },
  {
   "cell_type": "code",
   "execution_count": 174,
   "metadata": {},
   "outputs": [],
   "source": [
    "import time\n",
    "def clock(func):\n",
    "    def clocked(*args):\n",
    "        t0 = time.perf_counter()\n",
    "        result = func(*args)\n",
    "        elapsed = time.perf_counter() - t0\n",
    "        name = func.__name__\n",
    "        arg_str = ', '.join(repr(arg) for arg in args)\n",
    "        # func 함수의 실행 시간, 어떤 args를 받아서 어떤 결과를 냈는지를 print\n",
    "        print(f'[execution time: {elapsed:0.8f}s] {name}({arg_str}) -> {result!r}') \n",
    "        return result\n",
    "    return clocked"
   ]
  },
  {
   "cell_type": "code",
   "execution_count": 175,
   "metadata": {},
   "outputs": [],
   "source": [
    "@clock\n",
    "def snooze(seconds):\n",
    "    time.sleep(seconds)\n",
    "    \n",
    "@clock\n",
    "def factorial(n):\n",
    "    return 1 if n < 2 else n*factorial(n-1)\n"
   ]
  },
  {
   "cell_type": "code",
   "execution_count": 176,
   "metadata": {},
   "outputs": [
    {
     "name": "stdout",
     "output_type": "stream",
     "text": [
      "**************************************** Calling snooze(.123)\n",
      "[execution time: 0.12368530s] snooze(0.123) -> None\n",
      "**************************************** Calling factorial(6)\n",
      "[execution time: 0.00000070s] factorial(1) -> 1\n",
      "[execution time: 0.00001520s] factorial(2) -> 2\n",
      "[execution time: 0.00002080s] factorial(3) -> 6\n",
      "[execution time: 0.00002620s] factorial(4) -> 24\n",
      "[execution time: 0.00003150s] factorial(5) -> 120\n",
      "[execution time: 0.00003750s] factorial(6) -> 720\n",
      "6! = 720\n"
     ]
    }
   ],
   "source": [
    "print('*' * 40, 'Calling snooze(.123)')\n",
    "snooze(.123)\n",
    "print('*' * 40, 'Calling factorial(6)')\n",
    "print('6! =', factorial(6))\n"
   ]
  },
  {
   "cell_type": "code",
   "execution_count": 116,
   "metadata": {},
   "outputs": [
    {
     "name": "stdout",
     "output_type": "stream",
     "text": [
      "clocked\n",
      "clocked\n"
     ]
    }
   ],
   "source": [
    "# snooze = clock(snooze)를 하고있기에,\n",
    "print(snooze.__name__)\n",
    "print(factorial.__name__)"
   ]
  },
  {
   "cell_type": "code",
   "execution_count": 177,
   "metadata": {},
   "outputs": [],
   "source": [
    "import time\n",
    "import functools\n",
    "def clock(func):\n",
    "    @functools.wraps(func) # func로부터 attributes를 copy\n",
    "    def clocked(*args, **kwargs): \n",
    "        t0 = time.perf_counter()\n",
    "        result = func(*args, **kwargs)\n",
    "        elapsed = time.perf_counter() - t0\n",
    "        name = func.__name__\n",
    "        arg_lst = [repr(arg) for arg in args]\n",
    "        arg_lst.extend(f'{k}={v!r}' for k, v in kwargs.items())\n",
    "        arg_str = ', '.join(arg_lst)\n",
    "        print(f'[execution time:{elapsed:0.8f}s] {name}({arg_str}) -> {result!r}')\n",
    "        return result\n",
    "    return clocked\n"
   ]
  },
  {
   "cell_type": "code",
   "execution_count": 178,
   "metadata": {},
   "outputs": [
    {
     "name": "stdout",
     "output_type": "stream",
     "text": [
      "[execution time:0.13097180s] snooze(0.123) -> None\n",
      "snooze\n"
     ]
    }
   ],
   "source": [
    "@clock\n",
    "def snooze(seconds):\n",
    "    time.sleep(seconds)\n",
    "    \n",
    "snooze(.123)\n",
    "print(snooze.__name__)"
   ]
  },
  {
   "cell_type": "code",
   "execution_count": 179,
   "metadata": {},
   "outputs": [
    {
     "name": "stdout",
     "output_type": "stream",
     "text": [
      "[execution time:0.00000050s] fibonacci(0) -> 0\n",
      "[execution time:0.00000060s] fibonacci(1) -> 1\n",
      "[execution time:0.00026610s] fibonacci(2) -> 1\n",
      "[execution time:0.00000030s] fibonacci(1) -> 1\n",
      "[execution time:0.00000040s] fibonacci(0) -> 0\n",
      "[execution time:0.00000020s] fibonacci(1) -> 1\n",
      "[execution time:0.00000820s] fibonacci(2) -> 1\n",
      "[execution time:0.00001620s] fibonacci(3) -> 2\n",
      "[execution time:0.00029150s] fibonacci(4) -> 3\n",
      "[execution time:0.00000020s] fibonacci(1) -> 1\n",
      "[execution time:0.00000020s] fibonacci(0) -> 0\n",
      "[execution time:0.00000020s] fibonacci(1) -> 1\n",
      "[execution time:0.00000700s] fibonacci(2) -> 1\n",
      "[execution time:0.00001440s] fibonacci(3) -> 2\n",
      "[execution time:0.00000020s] fibonacci(0) -> 0\n",
      "[execution time:0.00000020s] fibonacci(1) -> 1\n",
      "[execution time:0.00000710s] fibonacci(2) -> 1\n",
      "[execution time:0.00000020s] fibonacci(1) -> 1\n",
      "[execution time:0.00000030s] fibonacci(0) -> 0\n",
      "[execution time:0.00000020s] fibonacci(1) -> 1\n",
      "[execution time:0.00000740s] fibonacci(2) -> 1\n",
      "[execution time:0.00001550s] fibonacci(3) -> 2\n",
      "[execution time:0.00003230s] fibonacci(4) -> 3\n",
      "[execution time:0.00005360s] fibonacci(5) -> 5\n",
      "[execution time:0.00035320s] fibonacci(6) -> 8\n",
      "8\n"
     ]
    }
   ],
   "source": [
    "@clock\n",
    "def fibonacci(n):\n",
    "    if n < 2:\n",
    "        return n\n",
    "    return fibonacci(n - 2) + fibonacci(n - 1)\n",
    "\n",
    "print(fibonacci(6))\n"
   ]
  },
  {
   "cell_type": "code",
   "execution_count": 180,
   "metadata": {},
   "outputs": [
    {
     "name": "stdout",
     "output_type": "stream",
     "text": [
      "[execution time:0.00000100s] fibonacci(0) -> 0\n",
      "[execution time:0.00000050s] fibonacci(1) -> 1\n",
      "[execution time:0.00021030s] fibonacci(2) -> 1\n",
      "[execution time:0.00000080s] fibonacci(3) -> 2\n",
      "[execution time:0.00022640s] fibonacci(4) -> 3\n",
      "[execution time:0.00000070s] fibonacci(5) -> 5\n",
      "[execution time:0.00024220s] fibonacci(6) -> 8\n",
      "8\n"
     ]
    }
   ],
   "source": [
    "@functools.cache # 호출 결과가 이미 캐시되어 있으면 함수를 실행하지 않고 캐시 결과만 반환 (clock에 적용됨)\n",
    "@clock\n",
    "def fibonacci(n):\n",
    "    if n < 2:\n",
    "        return n\n",
    "    return fibonacci(n - 2) + fibonacci(n - 1)\n",
    "\n",
    "print(fibonacci(6))"
   ]
  },
  {
   "attachments": {},
   "cell_type": "markdown",
   "metadata": {},
   "source": [
    "### Single Dispatch Generic Functions (예시)\n",
    "\n",
    "@singledispatch decorator를 이용하여, function을 generic하게 바꿔줌\n",
    "\n",
    "인수의 type에 따라 다른 함수를 참조하도록 설정 가능"
   ]
  },
  {
   "cell_type": "code",
   "execution_count": 181,
   "metadata": {},
   "outputs": [
    {
     "name": "stdout",
     "output_type": "stream",
     "text": [
      "<pre>&lt;built-in function abs&gt;</pre>\n",
      "\n",
      "<p>Heimlich &amp; Co.<br/>\n",
      " - a game</p>\n",
      "\n",
      "<ul>\n",
      "<li><pre>1 (0x1)</pre></li>\n",
      "<li><pre>2 (0x2)</pre></li>\n",
      "<li><pre>3 (0x3)</pre></li>\n",
      "</ul>\n",
      "\n",
      "<pre>42 (0x2a)</pre>\n"
     ]
    }
   ],
   "source": [
    "from functools import singledispatch\n",
    "from collections import abc\n",
    "import html\n",
    "\n",
    "# a group of functions to perform the same operation in different ways, \\\n",
    "# depending on the type of the first argument\n",
    "# 첫번째 인수로 결정되는 entry 함수\n",
    "@singledispatch \n",
    "def htmlize(obj: object) -> str:\n",
    "    content = html.escape(repr(obj))\n",
    "    return f'<pre>{content}</pre>'\n",
    "\n",
    "@htmlize.register\n",
    "def _(text: str) -> str:\n",
    "    content = html.escape(text).replace('\\n', '<br/>\\n')\n",
    "    return f'<p>{content}</p>'\n",
    "\n",
    "@htmlize.register\n",
    "def _(seq: abc.Sequence) -> str:\n",
    "    inner = '</li>\\n<li>'.join(htmlize(item) for item in seq)\n",
    "    return '<ul>\\n<li>' + inner + '</li>\\n</ul>'\n",
    "\n",
    "@htmlize.register(int)\n",
    "def _(n) -> str:\n",
    "    return f'<pre>{n} (0x{n:x})</pre>'\n",
    "\n",
    "\n",
    "print(htmlize(abs))\n",
    "print()\n",
    "print(htmlize('Heimlich & Co.\\n - a game'))\n",
    "print()\n",
    "print(htmlize([1, 2, 3]))\n",
    "print()\n",
    "print(htmlize(42))\n"
   ]
  },
  {
   "attachments": {},
   "cell_type": "markdown",
   "metadata": {},
   "source": [
    "### Parameterized Decorators\n"
   ]
  },
  {
   "cell_type": "code",
   "execution_count": 182,
   "metadata": {},
   "outputs": [
    {
     "name": "stdout",
     "output_type": "stream",
     "text": [
      "running register(active=False)->decorate(<function f1 at 0x0000026477A18B80>)\n",
      "running register(active=True)->decorate(<function f2 at 0x0000026477922B00>)\n"
     ]
    }
   ],
   "source": [
    "registry = set()\n",
    "def register(active=True):\n",
    "    def decorate(func):\n",
    "        print('running register'\n",
    "            f'(active={active})->decorate({func})')\n",
    "        if active:\n",
    "            registry.add(func)\n",
    "        else:\n",
    "            registry.discard(func)\n",
    "        \n",
    "        return func\n",
    "    return decorate\n",
    "\n",
    "@register(active=False)\n",
    "def f1():\n",
    "    print('running f1()')\n",
    " \n",
    "@register()\n",
    "def f2():\n",
    "    print('running f2()')\n",
    " \n",
    "def f3():\n",
    "    print('running f3()')"
   ]
  },
  {
   "cell_type": "code",
   "execution_count": 183,
   "metadata": {},
   "outputs": [
    {
     "name": "stdout",
     "output_type": "stream",
     "text": [
      "{<function f2 at 0x0000026477922B00>}\n"
     ]
    }
   ],
   "source": [
    "print(registry)"
   ]
  },
  {
   "cell_type": "code",
   "execution_count": 184,
   "metadata": {},
   "outputs": [
    {
     "name": "stdout",
     "output_type": "stream",
     "text": [
      "running register(active=True)->decorate(<function f3 at 0x0000026477922680>)\n"
     ]
    },
    {
     "data": {
      "text/plain": [
       "<function __main__.f3()>"
      ]
     },
     "execution_count": 184,
     "metadata": {},
     "output_type": "execute_result"
    }
   ],
   "source": [
    "register()(f3)"
   ]
  },
  {
   "cell_type": "code",
   "execution_count": 185,
   "metadata": {},
   "outputs": [
    {
     "name": "stdout",
     "output_type": "stream",
     "text": [
      "{<function f2 at 0x0000026477922B00>, <function f3 at 0x0000026477922680>}\n"
     ]
    }
   ],
   "source": [
    "print(registry)"
   ]
  },
  {
   "cell_type": "code",
   "execution_count": 186,
   "metadata": {},
   "outputs": [
    {
     "name": "stdout",
     "output_type": "stream",
     "text": [
      "running register(active=False)->decorate(<function f2 at 0x0000026477922B00>)\n"
     ]
    },
    {
     "data": {
      "text/plain": [
       "<function __main__.f2()>"
      ]
     },
     "execution_count": 186,
     "metadata": {},
     "output_type": "execute_result"
    }
   ],
   "source": [
    "register(active=False)(f2)"
   ]
  },
  {
   "cell_type": "code",
   "execution_count": 187,
   "metadata": {},
   "outputs": [
    {
     "name": "stdout",
     "output_type": "stream",
     "text": [
      "{<function f3 at 0x0000026477922680>}\n"
     ]
    }
   ],
   "source": [
    "print(registry)"
   ]
  },
  {
   "attachments": {},
   "cell_type": "markdown",
   "metadata": {},
   "source": [
    "### The Parameterized Clock Decorator (예시)\n"
   ]
  },
  {
   "cell_type": "code",
   "execution_count": 188,
   "metadata": {},
   "outputs": [],
   "source": [
    "import time\n",
    "DEFAULT_FMT = '[{elapsed:0.8f}s] {name}({args}) -> {result}'\n",
    "def clock(fmt=DEFAULT_FMT):\n",
    "    def decorate(func):\n",
    "        def clocked(*_args):\n",
    "            t0 = time.perf_counter()\n",
    "            _result = func(*_args)\n",
    "            elapsed = time.perf_counter() - t0\n",
    "            name = func.__name__\n",
    "            args = ', '.join(repr(arg) for arg in _args)\n",
    "            result = repr(_result)\n",
    "            print(fmt.format(**locals())) # fnt를 사용\n",
    "            return _result\n",
    "        return clocked\n",
    "    return decorate"
   ]
  },
  {
   "cell_type": "code",
   "execution_count": 189,
   "metadata": {},
   "outputs": [
    {
     "name": "stdout",
     "output_type": "stream",
     "text": [
      "[0.12581810s] snooze(0.123) -> None\n",
      "[0.12287060s] snooze(0.123) -> None\n",
      "[0.12380960s] snooze(0.123) -> None\n"
     ]
    }
   ],
   "source": [
    "@clock()\n",
    "def snooze(seconds):\n",
    "    time.sleep(seconds)\n",
    "\n",
    "for i in range(3):\n",
    "    snooze(.123)\n",
    "    "
   ]
  },
  {
   "cell_type": "code",
   "execution_count": 190,
   "metadata": {},
   "outputs": [
    {
     "name": "stdout",
     "output_type": "stream",
     "text": [
      "snooze(0.123) dt=0.130s\n",
      "snooze(0.123) dt=0.130s\n",
      "snooze(0.123) dt=0.123s\n"
     ]
    }
   ],
   "source": [
    "@clock('{name}({args}) dt={elapsed:0.3f}s')\n",
    "def snooze(seconds):\n",
    "    time.sleep(seconds)\n",
    "    \n",
    "for i in range(3):\n",
    "    snooze(.123)"
   ]
  },
  {
   "cell_type": "code",
   "execution_count": 191,
   "metadata": {},
   "outputs": [],
   "source": [
    "# class로도 같은 decorator를 반들 수 있음\n",
    "import time\n",
    "DEFAULT_FMT = '[{elapsed:0.8f}s] {name}({args}) -> {result}'\n",
    "class clock:\n",
    "   def __init__(self, fmt=DEFAULT_FMT):\n",
    "      self.fmt = fmt\n",
    "      \n",
    "   def __call__(self, func):\n",
    "      def clocked(*_args):\n",
    "         t0 = time.perf_counter()\n",
    "         _result = func(*_args)\n",
    "         elapsed = time.perf_counter() - t0\n",
    "         name = func.__name__\n",
    "         args = ', '.join(repr(arg) for arg in _args)\n",
    "         result = repr(_result)\n",
    "         print(self.fmt.format(**locals()))\n",
    "         return _result\n",
    "      return clocked\n",
    "   \n",
    "   "
   ]
  },
  {
   "cell_type": "code",
   "execution_count": 192,
   "metadata": {},
   "outputs": [
    {
     "name": "stdout",
     "output_type": "stream",
     "text": [
      "snooze(0.123) dt=0.124s\n",
      "snooze(0.123) dt=0.130s\n",
      "snooze(0.123) dt=0.131s\n"
     ]
    }
   ],
   "source": [
    "@clock('{name}({args}) dt={elapsed:0.3f}s')\n",
    "def snooze(seconds):\n",
    "    time.sleep(seconds)\n",
    "    \n",
    "for i in range(3):\n",
    "    snooze(.123)"
   ]
  },
  {
   "cell_type": "code",
   "execution_count": null,
   "metadata": {},
   "outputs": [],
   "source": [
    "# fuctools.partial -> 값을 고정시켜줌 (decorator의 일종)\n",
    "# 이걸 사용하면 decorator전체 코드를 바꿀 필요가 없음\n"
   ]
  },
  {
   "cell_type": "code",
   "execution_count": null,
   "metadata": {},
   "outputs": [],
   "source": []
  }
 ],
 "metadata": {
  "kernelspec": {
   "display_name": "Python 3",
   "language": "python",
   "name": "python3"
  },
  "language_info": {
   "codemirror_mode": {
    "name": "ipython",
    "version": 3
   },
   "file_extension": ".py",
   "mimetype": "text/x-python",
   "name": "python",
   "nbconvert_exporter": "python",
   "pygments_lexer": "ipython3",
   "version": "3.10.10"
  },
  "orig_nbformat": 4
 },
 "nbformat": 4,
 "nbformat_minor": 2
}
